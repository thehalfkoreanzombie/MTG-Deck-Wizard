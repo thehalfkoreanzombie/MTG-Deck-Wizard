{
 "cells": [
  {
   "cell_type": "code",
   "execution_count": 2,
   "metadata": {},
   "outputs": [
    {
     "data": {
      "text/plain": [
       "<mtgsdk.card.Card at 0x110594e50>"
      ]
     },
     "metadata": {},
     "output_type": "display_data"
    }
   ],
   "source": [
    "from mtgsdk import Card\n",
    "\n",
    "midnight_hunt_cards = Card.where(set='mid').all()\n",
    "midnight_hunt_cards = [card for card in midnight_hunt_cards if card.name != 'Plains' and card.name != 'Island' and card.name != 'Swamp' and card.name != 'Mountain' and card.name != 'Forest']\n"
   ]
  },
  {
   "cell_type": "code",
   "execution_count": 10,
   "metadata": {},
   "outputs": [
    {
     "name": "stdout",
     "output_type": "stream",
     "text": [
      "{'name': 'Adeline, Resplendent Cathar', 'layout': 'normal', 'mana_cost': '{1}{W}{W}', 'cmc': 3.0, 'colors': ['W'], 'color_identity': ['W'], 'names': None, 'type': 'Legendary Creature — Human Knight', 'supertypes': ['Legendary'], 'subtypes': ['Human', 'Knight'], 'types': ['Creature'], 'rarity': 'Rare', 'text': \"Vigilance\\nAdeline, Resplendent Cathar's power is equal to the number of creatures you control.\\nWhenever you attack, for each opponent, create a 1/1 white Human creature token that's tapped and attacking that player or a planeswalker they control.\", 'flavor': None, 'artist': 'Bryan Sola', 'number': '1', 'power': '*', 'toughness': '4', 'loyalty': None, 'multiverse_id': '534751', 'variations': ['68d45fcc-98ec-54b1-beb7-b75b0a004c31'], 'watermark': None, 'border': None, 'timeshifted': None, 'hand': None, 'life': None, 'release_date': None, 'starter': None, 'printings': ['DBL', 'MID', 'MOC', 'PMID'], 'original_text': \"Vigilance\\nAdeline, Resplendent Cathar's power is equal to the number of creatures you control.\\nWhenever you attack, for each opponent, create a 1/1 white Human creature token that's tapped and attacking that player or a planeswalker they control.\", 'original_type': 'Legendary Creature — Human Knight', 'source': None, 'image_url': 'http://gatherer.wizards.com/Handlers/Image.ashx?multiverseid=534751&type=card', 'set': 'MID', 'set_name': 'Innistrad: Midnight Hunt', 'id': 'f10c65cc-1a64-552e-b53c-f825ca89d5eb', 'legalities': [{'format': 'Alchemy', 'legality': 'Legal'}, {'format': 'Brawl', 'legality': 'Legal'}, {'format': 'Commander', 'legality': 'Legal'}, {'format': 'Duel', 'legality': 'Legal'}, {'format': 'Explorer', 'legality': 'Legal'}, {'format': 'Future', 'legality': 'Legal'}, {'format': 'Gladiator', 'legality': 'Legal'}, {'format': 'Historic', 'legality': 'Legal'}, {'format': 'Historicbrawl', 'legality': 'Legal'}, {'format': 'Legacy', 'legality': 'Legal'}, {'format': 'Modern', 'legality': 'Legal'}, {'format': 'Oathbreaker', 'legality': 'Legal'}, {'format': 'Pioneer', 'legality': 'Legal'}, {'format': 'Standard', 'legality': 'Legal'}, {'format': 'Vintage', 'legality': 'Legal'}], 'rulings': [{'date': '2021-09-24', 'text': \"The ability that defines Adeline's power works in all zones, not just the battlefield. As long as Adeline is on the battlefield (and still a creature), that ability will count Adeline itself.\"}, {'date': '2021-09-24', 'text': \"Attacking with any creatures will cause Adeline's last ability to trigger. Adeline doesn't have to be among them.\"}, {'date': '2021-09-24', 'text': 'Tokens will be created for each of your opponents, not just opponents that you attacked.'}, {'date': '2021-09-24', 'text': 'You choose whether each token is attacking that opponent or a planeswalker they control as those tokens enter the battlefield.'}, {'date': '2021-09-24', 'text': 'Although the Human tokens created by the triggered ability are attacking, they were never declared as attacking creatures (for the purposes of abilities that trigger whenever a creature attacks, for example).'}], 'foreign_names': [{'name': 'Adeline, strahlende Katharerin', 'text': 'Wachsamkeit\\nDie Stärke von Adeline, strahlende Katharerin, ist gleich der Anzahl an Kreaturen, die du kontrollierst.\\nImmer wenn du angreifst, erzeuge für jeden Gegner einen getappten und angreifenden 1/1 weißen Mensch-Kreaturenspielstein, der jenen Spieler oder einen Planeswalker, den er kontrolliert, angreift.', 'type': 'Legendäre Kreatur — Mensch, Ritter', 'flavor': None, 'imageUrl': 'http://gatherer.wizards.com/Handlers/Image.ashx?multiverseid=535067&type=card', 'language': 'German', 'multiverseid': 535067}, {'name': 'Adeline, cátara fulgurante', 'text': 'Vigilancia.\\nLa fuerza de Adeline, cátara fulgurante es igual a la cantidad de criaturas que controlas.\\nSiempre que ataques, por cada oponente, crea una ficha de criatura Humano blanca 1/1 que está girada y atacando a ese jugador o a un planeswalker que controla.', 'type': 'Criatura legendaria — Caballero humano', 'flavor': None, 'imageUrl': 'http://gatherer.wizards.com/Handlers/Image.ashx?multiverseid=535383&type=card', 'language': 'Spanish', 'multiverseid': 535383}, {'name': 'Adeline, cathare resplendissante', 'text': \"Vigilance\\nLa force d'Adeline, cathare resplendissante est égale au nombre de créatures que vous contrôlez.\\nÀ chaque fois que vous attaquez, pour chaque adversaire, créez un jeton de créature 1/1 blanche Humain qui est engagé et attaquant ce joueur ou un planeswalker qu'il contrôle.\", 'type': 'Créature légendaire : humain et chevalier', 'flavor': None, 'imageUrl': 'http://gatherer.wizards.com/Handlers/Image.ashx?multiverseid=535699&type=card', 'language': 'French', 'multiverseid': 535699}, {'name': 'Adeline, Catara Splendente', 'text': 'Cautela\\nLa forza di Adeline, Catara Splendente è pari al numero di creature che controlli.\\nOgniqualvolta attacchi, per ogni avversario, crea una pedina creatura Umano 1/1 bianca TAPpata e che attacca quel giocatore o un planeswalker che controlla.', 'type': 'Creatura Leggendaria — Cavaliere Umano', 'flavor': None, 'imageUrl': 'http://gatherer.wizards.com/Handlers/Image.ashx?multiverseid=536015&type=card', 'language': 'Italian', 'multiverseid': 536015}, {'name': '輝かしい聖戦士、エーデリン', 'text': '警戒\\n輝かしい聖戦士、エーデリンのパワーは、あなたがコントロールしているクリーチャーの数に等しい。\\nあなたが攻撃するたび、対戦相手１人につき１体の白の１/１の人間・クリーチャー・トークンをタップ状態かつそのプレイヤーまたはそのプレイヤーがコントロールしているプレインズウォーカーを攻撃している状態で生成する。', 'type': '伝説のクリーチャー — 人間・騎士', 'flavor': None, 'imageUrl': 'http://gatherer.wizards.com/Handlers/Image.ashx?multiverseid=536331&type=card', 'language': 'Japanese', 'multiverseid': 536331}, {'name': '휘황찬란한 성전사, 아델린', 'text': '경계\\n휘황찬란한 성전사, 아델린의 공격력은 당신이 조종하는 생물의 수와 같다.\\n당신이 공격할 때마다, 각 상대에 대해, 탭되어 그 플레이어 또는 그 플레이어가 조종하는 플레인즈워커를 공격 중인 백색 인간 생물 토큰 한 개를 만든다.', 'type': '전설적 생물 — 인간 기사', 'flavor': None, 'imageUrl': 'http://gatherer.wizards.com/Handlers/Image.ashx?multiverseid=536647&type=card', 'language': 'Korean', 'multiverseid': 536647}, {'name': 'Adeline, Cátara Resplandecente', 'text': 'Vigilância\\nO poder de Adeline, Cátara Resplandecente, é igual ao número de criaturas que você controla.\\nToda vez que você atacar, para cada oponente, crie uma ficha de criatura Humano branca 1/1 virada e atacando aquele jogador ou um planeswalker que ele controla.', 'type': 'Criatura Lendária — Humano Cavaleiro', 'flavor': None, 'imageUrl': 'http://gatherer.wizards.com/Handlers/Image.ashx?multiverseid=536963&type=card', 'language': 'Portuguese (Brazil)', 'multiverseid': 536963}, {'name': 'Аделина, Блистательный Катар', 'text': \"Бдительность\\nСила Аделины, Блистательного Катара равна количеству существ под вашим контролем.\\nКаждый раз, когда вы атакуете, за каждого оппонента создайте одну фишку существа 1/1 белый Человек повернутой и атакующей того игрока или planeswalker'а под его контролем.\", 'type': 'Легендарное Существо — Человек Рыцарь', 'flavor': None, 'imageUrl': 'http://gatherer.wizards.com/Handlers/Image.ashx?multiverseid=537279&type=card', 'language': 'Russian', 'multiverseid': 537279}, {'name': '华辉护教军艾德琳', 'text': '警戒\\n华辉护教军艾德琳的力量等同于由你操控的生物数量。\\n每当你攻击时，为每位对手各进行以下流程～派出一个1/1白色人类衍生生物，其为横置且正向该牌手或一个由其操控的鹏洛客进行攻击。', 'type': '传奇生物 ～人类／骑士', 'flavor': None, 'imageUrl': 'http://gatherer.wizards.com/Handlers/Image.ashx?multiverseid=537595&type=card', 'language': 'Chinese Simplified', 'multiverseid': 537595}, {'name': '華輝護教軍艾德琳', 'text': '警戒\\n 華輝護教軍艾德琳的力量等同於由你操控的生物數量。\\n 每當你攻擊時，為每位對手各進行以下流程～派出一個1/1白色人類衍生生物，其為橫置且正向該玩家或一個由其操控的鵬洛客進行攻擊。', 'type': '傳奇生物 ～人類／騎士', 'flavor': None, 'imageUrl': 'http://gatherer.wizards.com/Handlers/Image.ashx?multiverseid=537911&type=card', 'language': 'Chinese Traditional', 'multiverseid': 537911}]}\n"
     ]
    }
   ],
   "source": [
    "import json\n",
    "\n",
    "midnight_hunt_cards = [card for card in midnight_hunt_cards if card.name != 'Plains' and card.name != 'Island' and card.name != 'Swamp' and card.name != 'Mountain' and card.name != 'Forest']\n",
    "midnight_hunt_dict = json.loads(json.dumps(midnight_hunt_cards, default=lambda o: o.__dict__))\n",
    "\n",
    "with open('./data/midnight_hunt.json', 'w') as f:\n",
    "    json.dump(midnight_hunt_dict, f, indent=4)\n"
   ]
  },
  {
   "cell_type": "code",
   "execution_count": 11,
   "metadata": {},
   "outputs": [],
   "source": [
    "crimson_vow_cards = Card.where(set='vow').all()\n",
    "crimson_vow_cards = [card for card in crimson_vow_cards if card.name != 'Plains' and card.name != 'Island' and card.name != 'Swamp' and card.name != 'Mountain' and card.name != 'Forest']\n",
    "crimson_vow_dict = json.loads(json.dumps(crimson_vow_cards, default=lambda o: o.__dict__))\n",
    "\n",
    "with open('./data/crimson_vow.json', 'w') as f_2:\n",
    "    json.dump(crimson_vow_dict, f_2, indent=4)"
   ]
  },
  {
   "cell_type": "code",
   "execution_count": 14,
   "metadata": {},
   "outputs": [],
   "source": [
    "neon_dynasty_cards = Card.where(set='neo').all()\n",
    "neon_dynasty_cards = [card for card in neon_dynasty_cards if card.name != 'Plains' and card.name != 'Island' and card.name != 'Swamp' and card.name != 'Mountain' and card.name != 'Forest']\n",
    "neon_dynasty_dict = json.loads(json.dumps(neon_dynasty_cards, default=lambda o: o.__dict__))\n",
    "\n",
    "with open('./data/neon_dynasty.json', 'w') as f_3:\n",
    "    json.dump(neon_dynasty_dict, f_3, indent=4)"
   ]
  },
  {
   "cell_type": "code",
   "execution_count": 15,
   "metadata": {},
   "outputs": [],
   "source": [
    "new_capenna_cards = Card.where(set='snc').all()\n",
    "new_capenna_cards = [card for card in new_capenna_cards if card.name != 'Plains' and card.name != 'Island' and card.name != 'Swamp' and card.name != 'Mountain' and card.name != 'Forest']\n",
    "new_capenna_dict = json.loads(json.dumps(new_capenna_cards, default=lambda o: o.__dict__))\n",
    "\n",
    "with open('./data/new_capenna.json', 'w') as f_4:\n",
    "    json.dump(new_capenna_dict, f_4, indent=4)"
   ]
  },
  {
   "cell_type": "code",
   "execution_count": null,
   "metadata": {},
   "outputs": [],
   "source": [
    "dominaria_cards = Card.where(set='dmu').all()\n",
    "dominaria_cards = [card for card in dominaria_cards if card.name != 'Plains' and card.name != 'Island' and card.name != 'Swamp' and card.name != 'Mountain' and card.name != 'Forest']\n",
    "dominaria_dict = json.loads(json.dumps(dominaria_cards, default=lambda o: o.__dict__))\n",
    "\n",
    "with open('./data/dominaria_united.json', 'w') as f_5:\n",
    "    json.dump(dominaria_dict, f_5, indent=4)"
   ]
  },
  {
   "cell_type": "code",
   "execution_count": 17,
   "metadata": {},
   "outputs": [],
   "source": [
    "brothers_war_cards = Card.where(set='bro').all()\n",
    "brothers_war_cards = [card for card in brothers_war_cards if card.name != 'Plains' and card.name != 'Island' and card.name != 'Swamp' and card.name != 'Mountain' and card.name != 'Forest']\n",
    "brothers_war_dict = json.loads(json.dumps(brothers_war_cards, default=lambda o: o.__dict__))\n",
    "\n",
    "with open('./data/brothers_war.json', 'w') as f_6:\n",
    "    json.dump(brothers_war_dict, f_6, indent=4)"
   ]
  },
  {
   "cell_type": "code",
   "execution_count": 18,
   "metadata": {},
   "outputs": [],
   "source": [
    "phyrexia_cards = Card.where(set='one').all()\n",
    "phyrexia_cards = [card for card in phyrexia_cards if card.name != 'Plains' and card.name != 'Island' and card.name != 'Swamp' and card.name != 'Mountain' and card.name != 'Forest']\n",
    "phyrexia_dict = json.loads(json.dumps(phyrexia_cards, default=lambda o: o.__dict__))\n",
    "\n",
    "with open('./data/phyrexia_all_will_be_one.json', 'w') as f_7:\n",
    "    json.dump(phyrexia_dict, f_7, indent=4)"
   ]
  },
  {
   "cell_type": "code",
   "execution_count": 19,
   "metadata": {},
   "outputs": [],
   "source": [
    "motm_cards = Card.where(set='mom').all()\n",
    "motm_cards = [card for card in motm_cards if card.name != 'Plains' and card.name != 'Island' and card.name != 'Swamp' and card.name != 'Mountain' and card.name != 'Forest']\n",
    "motm_dict = json.loads(json.dumps(motm_cards, default=lambda o: o.__dict__))\n",
    "\n",
    "with open('./data/motm.json', 'w') as f_8:\n",
    "    json.dump(motm_dict, f_8, indent=4)"
   ]
  },
  {
   "cell_type": "code",
   "execution_count": 20,
   "metadata": {},
   "outputs": [],
   "source": [
    "aftermath_cards = Card.where(set='mat').all()\n",
    "aftermath_cards = [card for card in aftermath_cards if card.name != 'Plains' and card.name != 'Island' and card.name != 'Swamp' and card.name != 'Mountain' and card.name != 'Forest']\n",
    "aftermath_dict = json.loads(json.dumps(aftermath_cards, default=lambda o: o.__dict__))\n",
    "\n",
    "with open('./data/motm_aftermath.json', 'w') as f_9:\n",
    "    json.dump(aftermath_dict, f_9, indent=4)"
   ]
  },
  {
   "cell_type": "code",
   "execution_count": 25,
   "metadata": {},
   "outputs": [],
   "source": [
    "files = ['./data/midnight_hunt.json', './data/crimson_vow.json', './data/neon_dynasty.json', './data/new_capenna.json', './data/dominaria_united.json', './data/brothers_war.json', './data/phyrexia_all_will_be_one.json', './data/motm.json', './data/motm_aftermath.json']\n",
    "\n",
    "def merge_jsonfiles(filename):\n",
    "    result = list()\n",
    "    for f1 in filename:\n",
    "        with open(f1, 'r') as infile:\n",
    "            result.extend(json.load(infile))\n",
    "\n",
    "    with open('./data/standard_format_2024.json', 'w') as output_file:\n",
    "        json.dump(result, output_file, indent=4)\n",
    "\n",
    "merge_jsonfiles(files)"
   ]
  },
  {
   "cell_type": "code",
   "execution_count": 3,
   "metadata": {},
   "outputs": [
    {
     "name": "stdout",
     "output_type": "stream",
     "text": [
      "<class 'pandas.core.frame.DataFrame'>\n",
      "Index: 3918 entries, 0 to 3917\n",
      "Data columns (total 39 columns):\n",
      " #   Column          Non-Null Count  Dtype  \n",
      "---  ------          --------------  -----  \n",
      " 0   name            3918 non-null   object \n",
      " 1   layout          3918 non-null   object \n",
      " 2   mana_cost       3461 non-null   object \n",
      " 3   cmc             3918 non-null   int64  \n",
      " 4   colors          3495 non-null   object \n",
      " 5   color_identity  3698 non-null   object \n",
      " 6   names           0 non-null      float64\n",
      " 7   type            3918 non-null   object \n",
      " 8   supertypes      874 non-null    object \n",
      " 9   subtypes        2817 non-null   object \n",
      " 10  types           3918 non-null   object \n",
      " 11  rarity          3918 non-null   object \n",
      " 12  text            3915 non-null   object \n",
      " 13  flavor          1510 non-null   object \n",
      " 14  artist          3918 non-null   object \n",
      " 15  number          3918 non-null   object \n",
      " 16  power           2389 non-null   object \n",
      " 17  toughness       2389 non-null   object \n",
      " 18  loyalty         114 non-null    float64\n",
      " 19  multiverse_id   3655 non-null   float64\n",
      " 20  variations      2342 non-null   object \n",
      " 21  watermark       212 non-null    object \n",
      " 22  border          0 non-null      float64\n",
      " 23  timeshifted     0 non-null      float64\n",
      " 24  hand            0 non-null      float64\n",
      " 25  life            0 non-null      float64\n",
      " 26  release_date    0 non-null      float64\n",
      " 27  starter         0 non-null      float64\n",
      " 28  printings       3918 non-null   object \n",
      " 29  original_text   3652 non-null   object \n",
      " 30  original_type   3655 non-null   object \n",
      " 31  source          0 non-null      float64\n",
      " 32  image_url       3655 non-null   object \n",
      " 33  set             3918 non-null   object \n",
      " 34  set_name        3918 non-null   object \n",
      " 35  id              3918 non-null   object \n",
      " 36  legalities      3918 non-null   object \n",
      " 37  rulings         2338 non-null   object \n",
      " 38  foreign_names   3104 non-null   object \n",
      "dtypes: float64(10), int64(1), object(28)\n",
      "memory usage: 1.2+ MB\n",
      "None\n"
     ]
    }
   ],
   "source": [
    "import pandas as pd\n",
    "\n",
    "standard_format_df = pd.read_json('./data/standard_format_2024.json')\n",
    "print(standard_format_df.info())"
   ]
  },
  {
   "cell_type": "code",
   "execution_count": 13,
   "metadata": {},
   "outputs": [
    {
     "name": "stdout",
     "output_type": "stream",
     "text": [
      "<class 'pandas.core.frame.DataFrame'>\n",
      "Index: 3918 entries, 0 to 3917\n",
      "Data columns (total 19 columns):\n",
      " #   Column         Non-Null Count  Dtype  \n",
      "---  ------         --------------  -----  \n",
      " 0   id             3918 non-null   object \n",
      " 1   name           3918 non-null   object \n",
      " 2   set            3918 non-null   object \n",
      " 3   rarity         3918 non-null   object \n",
      " 4   colors         3495 non-null   object \n",
      " 5   mana_cost      3461 non-null   object \n",
      " 6   cmc            3918 non-null   int64  \n",
      " 7   type           3918 non-null   object \n",
      " 8   subtypes       2817 non-null   object \n",
      " 9   supertypes     874 non-null    object \n",
      " 10  text           3915 non-null   object \n",
      " 11  power          2389 non-null   object \n",
      " 12  toughness      2389 non-null   object \n",
      " 13  artist         3918 non-null   object \n",
      " 14  number         3918 non-null   object \n",
      " 15  layout         3918 non-null   object \n",
      " 16  multiverse_id  3655 non-null   float64\n",
      " 17  image_url      3655 non-null   object \n",
      " 18  rulings        2338 non-null   object \n",
      "dtypes: float64(1), int64(1), object(17)\n",
      "memory usage: 612.2+ KB\n",
      "None\n"
     ]
    }
   ],
   "source": [
    "standard_format_df = standard_format_df[['id', 'name', 'set', 'rarity', 'colors', 'mana_cost', 'cmc', 'type', 'subtypes', 'supertypes', 'text', 'power', 'toughness', 'artist', 'number', 'layout', 'multiverse_id', 'image_url', 'rulings']]\n",
    "print(standard_format_df.info())"
   ]
  },
  {
   "cell_type": "code",
   "execution_count": 7,
   "metadata": {},
   "outputs": [
    {
     "name": "stdout",
     "output_type": "stream",
     "text": [
      "         artist  ... watermark\n",
      "0  Pete Venters  ...       NaN\n",
      "1  Pete Venters  ...       NaN\n",
      "2   Volkan Baǵa  ...       NaN\n",
      "3   Volkan Baǵa  ...       NaN\n",
      "4      Mark Zug  ...       NaN\n",
      "\n",
      "[5 rows x 78 columns]\n"
     ]
    }
   ],
   "source": [
    "import pandas as pd\n",
    "\n",
    "standard_df = pd.read_csv('./data/cards.csv', low_memory=False)\n",
    "print(standard_df.head(5))"
   ]
  }
 ],
 "metadata": {
  "kernelspec": {
   "display_name": "venv",
   "language": "python",
   "name": "python3"
  },
  "language_info": {
   "codemirror_mode": {
    "name": "ipython",
    "version": 3
   },
   "file_extension": ".py",
   "mimetype": "text/x-python",
   "name": "python",
   "nbconvert_exporter": "python",
   "pygments_lexer": "ipython3",
   "version": "3.11.6"
  }
 },
 "nbformat": 4,
 "nbformat_minor": 2
}
