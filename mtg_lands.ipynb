{
 "cells": [
  {
   "cell_type": "code",
   "execution_count": 1,
   "metadata": {},
   "outputs": [
    {
     "name": "stdout",
     "output_type": "stream",
     "text": [
      "                                   uuid number                name setCode  \\\n",
      "0  6ff98307-b89c-5a43-bc3c-3f81d803617d      1    Aeronaut Cavalry     BRO   \n",
      "1  e4d66ec1-7ba2-5c80-a9c1-e33500cfdbb5      2    Airlift Chaplain     BRO   \n",
      "2  8d065ec5-4e7f-50f6-92c8-277673a6fb19      3  Ambush Paratrooper     BRO   \n",
      "3  45e16536-c429-54c9-906e-43b9f9ee83b2      4     Calamity's Wake     BRO   \n",
      "4  d184bcd7-1c35-558f-8fd4-c2065a349018      5      Deadly Riposte     BRO   \n",
      "\n",
      "                                                text manaCost  manaValue  \\\n",
      "0  Flying\\nWhen Aeronaut Cavalry enters the battl...   {4}{W}        5.0   \n",
      "1  Flying\\nWhen Airlift Chaplain enters the battl...   {2}{W}        3.0   \n",
      "2  Flash\\nFlying\\n{5}: Creatures you control get ...   {1}{W}        2.0   \n",
      "3  Exile all graveyards. Players can't cast noncr...   {1}{W}        2.0   \n",
      "4  Deadly Riposte deals 3 damage to target tapped...   {1}{W}        2.0   \n",
      "\n",
      "  colors colorIdentity power toughness                      type     types  \\\n",
      "0      W             W     3         4  Creature — Human Soldier  Creature   \n",
      "1      W             W     1         1   Creature — Human Cleric  Creature   \n",
      "2      W             W     1         2  Creature — Human Soldier  Creature   \n",
      "3      W             W   NaN       NaN                   Instant   Instant   \n",
      "4      W             W   NaN       NaN                   Instant   Instant   \n",
      "\n",
      "         subtypes supertypes    rarity               artist printings language  \n",
      "0  Human, Soldier        NaN    common  Lorenzo Mastroianni       BRO  English  \n",
      "1   Human, Cleric        NaN    common      Caroline Gariba       BRO  English  \n",
      "2  Human, Soldier        NaN    common  Vladimir Krisetskiy       BRO  English  \n",
      "3             NaN        NaN  uncommon      Slawomir Maniak       BRO  English  \n",
      "4             NaN        NaN    common       Olena Richards  BRO, CLU  English  \n"
     ]
    }
   ],
   "source": [
    "import pandas as pd\n",
    "\n",
    "standard_df = pd.read_csv('./data/standard_cards.csv')\n",
    "print(standard_df.head(5))"
   ]
  },
  {
   "cell_type": "code",
   "execution_count": 3,
   "metadata": {},
   "outputs": [
    {
     "name": "stdout",
     "output_type": "stream",
     "text": [
      "                                      uuid number  \\\n",
      "267   39396ccd-e82b-59a3-9bdf-764cc8c17f23   256a   \n",
      "269   cf5c593c-e1fc-5eb7-b6a6-dbee9d8d65d4    257   \n",
      "270   dccb779e-5a01-586d-9902-27e20ce8ba98    258   \n",
      "271   727a1c9a-40f0-5c81-b069-b7d401e49e0e    259   \n",
      "272   eb840c40-ae48-5964-a12b-7f59708f34e1    260   \n",
      "...                                    ...    ...   \n",
      "2868  936c3617-8070-5cc1-8bb0-2306a3203272    262   \n",
      "2869  818f2a99-e932-5b0f-a1e2-71b5824714e9    264   \n",
      "2870  b196578a-9cde-527b-9644-6669ba33666a    265   \n",
      "2871  b8e239ec-1de4-5dd5-a9dd-25205ff8ddf9    266   \n",
      "2872  23df94c4-ae72-5f0f-bc7a-a450bb55b08f    267   \n",
      "\n",
      "                                                   name setCode  \\\n",
      "267   Argoth, Sanctum of Nature // Titania, Gaea Inc...     BRO   \n",
      "269                                   Battlefield Forge     BRO   \n",
      "270                                          Blast Zone     BRO   \n",
      "271                                           Brushland     BRO   \n",
      "272                                    Demolition Field     BRO   \n",
      "...                                                 ...     ...   \n",
      "2868                                  Dreamroot Cascade     VOW   \n",
      "2869                                  Shattered Sanctum     VOW   \n",
      "2870                                  Stormcarved Coast     VOW   \n",
      "2871                                       Sundown Pass     VOW   \n",
      "2872                                    Voldaren Estate     VOW   \n",
      "\n",
      "                                                   text manaCost  manaValue  \\\n",
      "267   Argoth, Sanctum of Nature enters the battlefie...      NaN        0.0   \n",
      "269   {T}: Add {C}.\\n{T}: Add {R} or {W}. Battlefiel...      NaN        0.0   \n",
      "270   Blast Zone enters the battlefield with a charg...      NaN        0.0   \n",
      "271   {T}: Add {C}.\\n{T}: Add {G} or {W}. Brushland ...      NaN        0.0   \n",
      "272   {T}: Add {C}.\\n{2}, {T}, Sacrifice Demolition ...      NaN        0.0   \n",
      "...                                                 ...      ...        ...   \n",
      "2868  Dreamroot Cascade enters the battlefield tappe...      NaN        0.0   \n",
      "2869  Shattered Sanctum enters the battlefield tappe...      NaN        0.0   \n",
      "2870  Stormcarved Coast enters the battlefield tappe...      NaN        0.0   \n",
      "2871  Sundown Pass enters the battlefield tapped unl...      NaN        0.0   \n",
      "2872  {T}: Add {C}.\\n{T}, Pay 1 life: Add one mana o...      NaN        0.0   \n",
      "\n",
      "     colors colorIdentity power toughness  type types subtypes supertypes  \\\n",
      "267     NaN             G   NaN       NaN  Land  Land      NaN        NaN   \n",
      "269     NaN          R, W   NaN       NaN  Land  Land      NaN        NaN   \n",
      "270     NaN           NaN   NaN       NaN  Land  Land      NaN        NaN   \n",
      "271     NaN          G, W   NaN       NaN  Land  Land      NaN        NaN   \n",
      "272     NaN           NaN   NaN       NaN  Land  Land      NaN        NaN   \n",
      "...     ...           ...   ...       ...   ...   ...      ...        ...   \n",
      "2868    NaN          G, U   NaN       NaN  Land  Land      NaN        NaN   \n",
      "2869    NaN          B, W   NaN       NaN  Land  Land      NaN        NaN   \n",
      "2870    NaN          R, U   NaN       NaN  Land  Land      NaN        NaN   \n",
      "2871    NaN          R, W   NaN       NaN  Land  Land      NaN        NaN   \n",
      "2872    NaN           NaN   NaN       NaN  Land  Land      NaN        NaN   \n",
      "\n",
      "        rarity             artist  \\\n",
      "267       rare   Cristi Balanescu   \n",
      "269       rare       Thomas Stoop   \n",
      "270       rare      Jorge Jacinto   \n",
      "271       rare       Thomas Stoop   \n",
      "272   uncommon  Kamila Szutenberg   \n",
      "...        ...                ...   \n",
      "2868      rare         Sam Burley   \n",
      "2869      rare   Muhammad Firdaus   \n",
      "2870      rare     Sarah Finnigan   \n",
      "2871      rare   Muhammad Firdaus   \n",
      "2872      rare     Richard Wright   \n",
      "\n",
      "                                              printings language  \n",
      "267                                           BRO, PBRO  English  \n",
      "269   10E, 9ED, APC, BRO, C20, C21, DMC, LTC, M15, O...  English  \n",
      "270                 BRO, CMM, PBRO, PRM, PWAR, SLU, WAR  English  \n",
      "271   10E, 5ED, 6ED, 7ED, 9ED, ATH, BRO, ICE, LTC, O...  English  \n",
      "272                                                 BRO  English  \n",
      "...                                                 ...      ...  \n",
      "2868                           DBL, PRM, PVOW, VOW, WHO  English  \n",
      "2869                                DBL, PRM, PVOW, VOW  English  \n",
      "2870                           DBL, PRM, PVOW, VOW, WHO  English  \n",
      "2871                           DBL, PRM, PVOW, VOW, WHO  English  \n",
      "2872                           DBL, LCC, PRM, PVOW, VOW  English  \n",
      "\n",
      "[128 rows x 19 columns]\n"
     ]
    }
   ],
   "source": [
    "#dataframe containing all nonbasic land cards in current standard rotation\n",
    "mana_df = standard_df[standard_df['type'].str.contains('Land')]\n",
    "print(mana_df)"
   ]
  },
  {
   "cell_type": "code",
   "execution_count": 4,
   "metadata": {},
   "outputs": [],
   "source": [
    "#convert mana_df to csv in data folder\n",
    "mana_df.to_csv('./data/standard_mana.csv', index=False)"
   ]
  }
 ],
 "metadata": {
  "kernelspec": {
   "display_name": "venv",
   "language": "python",
   "name": "python3"
  },
  "language_info": {
   "codemirror_mode": {
    "name": "ipython",
    "version": 3
   },
   "file_extension": ".py",
   "mimetype": "text/x-python",
   "name": "python",
   "nbconvert_exporter": "python",
   "pygments_lexer": "ipython3",
   "version": "3.11.6"
  }
 },
 "nbformat": 4,
 "nbformat_minor": 2
}
